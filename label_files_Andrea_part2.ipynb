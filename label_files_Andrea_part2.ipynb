{
 "cells": [
  {
   "cell_type": "code",
   "execution_count": 1,
   "metadata": {},
   "outputs": [],
   "source": [
    "import pandas as pd\n",
    "import numpy as np\n",
    "import csv\n",
    "\n",
    "\n",
    "#Reading my file\n",
    "flora = pd.read_csv('D:/LABELS_ANDREA_AUDIOS/selections/annotation_test_all_FS.csv')\n",
    "#Filtering only whistles\n",
    "whistle = flora.loc[(flora['label'] == 2)]\n",
    "\n",
    "#Reading deepvoice file\n",
    "DeepVoice = pd.read_csv('D:/LABELS_ANDREA_AUDIOS/annotation_test_clicks.csv')"
   ]
  }
 ],
 "metadata": {
  "kernelspec": {
   "display_name": "Python 3",
   "language": "python",
   "name": "python3"
  },
  "language_info": {
   "codemirror_mode": {
    "name": "ipython",
    "version": 3
   },
   "file_extension": ".py",
   "mimetype": "text/x-python",
   "name": "python",
   "nbconvert_exporter": "python",
   "pygments_lexer": "ipython3",
   "version": "3.11.7"
  }
 },
 "nbformat": 4,
 "nbformat_minor": 2
}
