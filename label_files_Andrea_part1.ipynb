{
 "cells": [
  {
   "cell_type": "code",
   "execution_count": null,
   "metadata": {},
   "outputs": [],
   "source": [
    "############################################################################################################\n",
    "#                                  Author: Flora Medeiros Sauerbronn                                       #\n",
    "#                                           Date: 02/01/2024                                               #\n",
    "#      This routine creates and cleans csv files from the selections that Andrea Dalben created            # \n",
    "#                          This files have whisles and click of dolphins                                   #\n",
    "############################################################################################################"
   ]
  },
  {
   "cell_type": "code",
   "execution_count": 148,
   "metadata": {},
   "outputs": [],
   "source": [
    "import csv\n",
    "import pandas as pd\n",
    "import numpy as np\n",
    "import os "
   ]
  },
  {
   "cell_type": "code",
   "execution_count": 157,
   "metadata": {},
   "outputs": [],
   "source": [
    "#COMEÇANDO COM OS ARQUIVOS DE VALIDAÇÃO\n",
    "lab_click = pd.read_csv('D:/LABELS_ANDREA_AUDIOS/annotation_test_clicks.csv')\n",
    "\n",
    "#listando o nome dos audios que estão no arquivo\n",
    "audio_names = lab_click['filename'].drop_duplicates()\n",
    "#transformando em lista pra facilitar\n",
    "audio_names = audio_names.tolist()"
   ]
  },
  {
   "cell_type": "code",
   "execution_count": 158,
   "metadata": {},
   "outputs": [],
   "source": [
    "#Agoora vamos fazer um loop que vai procurar cada arquivo desses e vai juntar todos em um\n",
    "# Caminho para o arquivo CSV vazio \n",
    "caminho_csv_vazio = 'D:/LABELS_ANDREA_AUDIOS/selections/annotation_test_all_FS.csv'\n",
    "# Cria um DataFrame vazio\n",
    "df_final = pd.DataFrame()\n",
    "\n",
    "\n",
    "\n",
    "\n",
    "for i in range(len(audio_names)):\n",
    "    file =f'D:/LABELS_ANDREA_AUDIOS/selections/selections/{audio_names[i]}.Table.1.selections.txt'\n",
    "\n",
    "    #Reading the file\n",
    "    #df_atual = pd.read_csv(file)\n",
    "    # Lendo o arquivo\n",
    "    df_atual = pd.read_csv(file, sep='\\t')  # Adiciona sep='\\t' para usar tabulação como delimitador\n",
    "    df_atual.columns = df_atual.columns.str.capitalize()\n",
    "    df_atual['filename'] = audio_names[i]\n",
    "     # Calculando a coluna 'call_length'\n",
    "    df_atual['call_length'] = df_atual['End time (s)'] - df_atual['Begin time (s)']\n",
    "\n",
    "     # Substituindo valores na coluna 'label'\n",
    "    df_atual['Type'] = df_atual['Type'].str.capitalize()\n",
    "    df_atual['Type'] = df_atual['Type'].replace({'^W.*': 'W', '^C.*': 'C'}, regex=True)\n",
    "    df_atual['Type'] = df_atual['Type'].replace({'W': 2, 'C': 1})\n",
    "\n",
    "    #Adding the file\n",
    "    df_final = pd.concat([df_final, df_atual], ignore_index=True)\n",
    "\n"
   ]
  },
  {
   "cell_type": "code",
   "execution_count": 159,
   "metadata": {},
   "outputs": [],
   "source": [
    "# Selecionando apenas as colunas desejadas\n",
    "df_final = df_final[['Channel', 'Begin time (s)', 'End time (s)', 'filename','call_length','Type']]\n",
    "\n",
    "\n",
    "\n",
    "    # Renomeando a coluna 'Type' para 'new_type' (substitua 'new_type' pelo nome desejado)\n",
    "df_final = df_final.rename(columns={'Channel':'channel','Type': 'label','Begin time (s)': 'begin_time','End time (s)':'end_time'})\n",
    "\n",
    "#VERIFICA EXPURIOS\n",
    "#########################################\n",
    "d1 = df_final['label'].drop_duplicates()\n",
    "d2 = df_final['label'].value_counts()\n",
    "#########################################\n",
    "\n",
    "\n",
    "valores_desejados = [1, 2]\n",
    "\n",
    "# Filtra as linhas onde a coluna 'label' contém os valores desejados ou NaN\n",
    "# Mantém os valores desejados\n",
    "df_final = df_final[df_final['label'].isin(valores_desejados)]\n",
    "\n",
    "# Remove os NaN\n",
    "df_final = df_final.dropna(subset=['label'])\n",
    "df_final['label'] = df_final['label'].astype(int)\n",
    "# Saving the file\n",
    "df_final.to_csv(caminho_csv_vazio, index=False, sep=',')"
   ]
  },
  {
   "cell_type": "code",
   "execution_count": 160,
   "metadata": {},
   "outputs": [
    {
     "data": {
      "text/plain": [
       "0     1\n",
       "18    2\n",
       "Name: label, dtype: int64"
      ]
     },
     "execution_count": 160,
     "metadata": {},
     "output_type": "execute_result"
    }
   ],
   "source": [
    "d1\n"
   ]
  },
  {
   "cell_type": "code",
   "execution_count": 161,
   "metadata": {},
   "outputs": [
    {
     "data": {
      "text/plain": [
       "label\n",
       "1    221\n",
       "2    119\n",
       "Name: count, dtype: int64"
      ]
     },
     "execution_count": 161,
     "metadata": {},
     "output_type": "execute_result"
    }
   ],
   "source": [
    "d2"
   ]
  }
 ],
 "metadata": {
  "kernelspec": {
   "display_name": "Python 3",
   "language": "python",
   "name": "python3"
  },
  "language_info": {
   "codemirror_mode": {
    "name": "ipython",
    "version": 3
   },
   "file_extension": ".py",
   "mimetype": "text/x-python",
   "name": "python",
   "nbconvert_exporter": "python",
   "pygments_lexer": "ipython3",
   "version": "3.11.7"
  }
 },
 "nbformat": 4,
 "nbformat_minor": 2
}
